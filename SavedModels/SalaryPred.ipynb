{
 "cells": [
  {
   "cell_type": "code",
   "execution_count": null,
   "id": "4b8006ca",
   "metadata": {},
   "outputs": [],
   "source": []
  },
  {
   "cell_type": "code",
   "execution_count": 1,
   "id": "e1e65384-0687-4e52-9e34-503d1e71b658",
   "metadata": {
    "tags": []
   },
   "outputs": [],
   "source": [
    "import numpy as np\n",
    "import pandas as pd\n",
    "import matplotlib.pyplot as plt\n",
    "import seaborn as sns\n",
    "import statsmodels.formula.api as smf\n",
    "import statsmodels.api as sm\n",
    "\n",
    "%matplotlib inline"
   ]
  },
  {
   "cell_type": "code",
   "execution_count": 3,
   "id": "a88f1529-d51d-4c5e-8232-a1d96019f46c",
   "metadata": {
    "tags": []
   },
   "outputs": [],
   "source": [
    "data = pd.read_csv('salaries.csv')"
   ]
  },
  {
   "cell_type": "code",
   "execution_count": 7,
   "id": "7ac36261-15c0-470e-afeb-ab2b94db7937",
   "metadata": {
    "tags": []
   },
   "outputs": [
    {
     "data": {
      "text/html": [
       "<div>\n",
       "<style scoped>\n",
       "    .dataframe tbody tr th:only-of-type {\n",
       "        vertical-align: middle;\n",
       "    }\n",
       "\n",
       "    .dataframe tbody tr th {\n",
       "        vertical-align: top;\n",
       "    }\n",
       "\n",
       "    .dataframe thead th {\n",
       "        text-align: right;\n",
       "    }\n",
       "</style>\n",
       "<table border=\"1\" class=\"dataframe\">\n",
       "  <thead>\n",
       "    <tr style=\"text-align: right;\">\n",
       "      <th></th>\n",
       "      <th>YearsExperience</th>\n",
       "      <th>Salary</th>\n",
       "    </tr>\n",
       "  </thead>\n",
       "  <tbody>\n",
       "    <tr>\n",
       "      <th>0</th>\n",
       "      <td>0</td>\n",
       "      <td>57239</td>\n",
       "    </tr>\n",
       "    <tr>\n",
       "      <th>1</th>\n",
       "      <td>1</td>\n",
       "      <td>61267</td>\n",
       "    </tr>\n",
       "    <tr>\n",
       "      <th>2</th>\n",
       "      <td>2</td>\n",
       "      <td>68200</td>\n",
       "    </tr>\n",
       "    <tr>\n",
       "      <th>3</th>\n",
       "      <td>3</td>\n",
       "      <td>75020</td>\n",
       "    </tr>\n",
       "    <tr>\n",
       "      <th>4</th>\n",
       "      <td>4</td>\n",
       "      <td>82522</td>\n",
       "    </tr>\n",
       "    <tr>\n",
       "      <th>5</th>\n",
       "      <td>5</td>\n",
       "      <td>94900</td>\n",
       "    </tr>\n",
       "    <tr>\n",
       "      <th>6</th>\n",
       "      <td>6</td>\n",
       "      <td>104390</td>\n",
       "    </tr>\n",
       "    <tr>\n",
       "      <th>7</th>\n",
       "      <td>7</td>\n",
       "      <td>114829</td>\n",
       "    </tr>\n",
       "    <tr>\n",
       "      <th>8</th>\n",
       "      <td>8</td>\n",
       "      <td>126311</td>\n",
       "    </tr>\n",
       "    <tr>\n",
       "      <th>9</th>\n",
       "      <td>9</td>\n",
       "      <td>138942</td>\n",
       "    </tr>\n",
       "    <tr>\n",
       "      <th>10</th>\n",
       "      <td>10</td>\n",
       "      <td>159783</td>\n",
       "    </tr>\n",
       "    <tr>\n",
       "      <th>11</th>\n",
       "      <td>11</td>\n",
       "      <td>175761</td>\n",
       "    </tr>\n",
       "    <tr>\n",
       "      <th>12</th>\n",
       "      <td>12</td>\n",
       "      <td>193337</td>\n",
       "    </tr>\n",
       "    <tr>\n",
       "      <th>13</th>\n",
       "      <td>13</td>\n",
       "      <td>212670</td>\n",
       "    </tr>\n",
       "    <tr>\n",
       "      <th>14</th>\n",
       "      <td>14</td>\n",
       "      <td>233937</td>\n",
       "    </tr>\n",
       "    <tr>\n",
       "      <th>15</th>\n",
       "      <td>15</td>\n",
       "      <td>269027</td>\n",
       "    </tr>\n",
       "  </tbody>\n",
       "</table>\n",
       "</div>"
      ],
      "text/plain": [
       "    YearsExperience  Salary\n",
       "0                 0   57239\n",
       "1                 1   61267\n",
       "2                 2   68200\n",
       "3                 3   75020\n",
       "4                 4   82522\n",
       "5                 5   94900\n",
       "6                 6  104390\n",
       "7                 7  114829\n",
       "8                 8  126311\n",
       "9                 9  138942\n",
       "10               10  159783\n",
       "11               11  175761\n",
       "12               12  193337\n",
       "13               13  212670\n",
       "14               14  233937\n",
       "15               15  269027"
      ]
     },
     "execution_count": 7,
     "metadata": {},
     "output_type": "execute_result"
    }
   ],
   "source": [
    "data"
   ]
  },
  {
   "cell_type": "code",
   "execution_count": 4,
   "id": "a5c7a850-b0e7-4782-afab-84849605b4df",
   "metadata": {
    "tags": []
   },
   "outputs": [],
   "source": [
    "model = smf.ols('Salary~YearsExperience', data = data).fit()"
   ]
  },
  {
   "cell_type": "code",
   "execution_count": 5,
   "id": "5601948f-3e01-4342-a021-c4eda5d81ac4",
   "metadata": {
    "tags": []
   },
   "outputs": [],
   "source": [
    "newdata = pd.Series([5])"
   ]
  },
  {
   "cell_type": "code",
   "execution_count": 6,
   "id": "00468b18-05ca-4e5f-b974-f44b2c539b5c",
   "metadata": {
    "tags": []
   },
   "outputs": [],
   "source": [
    "data_pred = pd.DataFrame(newdata, columns = ['YearsExperience'])"
   ]
  },
  {
   "cell_type": "code",
   "execution_count": 7,
   "id": "feaa4543-6674-41f3-928d-0f1a82bff274",
   "metadata": {
    "tags": []
   },
   "outputs": [],
   "source": [
    "v = int(data_pred.values[0][0])"
   ]
  },
  {
   "cell_type": "code",
   "execution_count": 8,
   "id": "e4da8647-ce51-4842-b6d3-5634bdd6272c",
   "metadata": {
    "tags": []
   },
   "outputs": [
    {
     "name": "stderr",
     "output_type": "stream",
     "text": [
      "C:\\Users\\shoai\\AppData\\Local\\Temp\\ipykernel_2728\\2263827219.py:1: FutureWarning: Series.__getitem__ treating keys as positions is deprecated. In a future version, integer keys will always be treated as labels (consistent with DataFrame behavior). To access a value by position, use `ser.iloc[pos]`\n",
      "  true_value = int(data.iloc[int(data_pred.values[0][0])][1])\n"
     ]
    }
   ],
   "source": [
    "true_value = int(data.iloc[int(data_pred.values[0][0])][1])"
   ]
  },
  {
   "cell_type": "code",
   "execution_count": 9,
   "id": "9eb890fe-d882-46ca-ac59-d1c56bb81a8d",
   "metadata": {
    "tags": []
   },
   "outputs": [],
   "source": [
    "predicted_value = int(model.predict(data_pred).values[0])"
   ]
  },
  {
   "cell_type": "code",
   "execution_count": 10,
   "id": "eb79d5f6-b7c1-4a30-82de-096a6e4dcb0a",
   "metadata": {
    "tags": []
   },
   "outputs": [
    {
     "data": {
      "text/plain": [
       "101803"
      ]
     },
     "execution_count": 10,
     "metadata": {},
     "output_type": "execute_result"
    }
   ],
   "source": [
    "predicted_value"
   ]
  },
  {
   "cell_type": "code",
   "execution_count": 11,
   "id": "e54d113f-fc13-4cbf-94d4-7a81cdbaddca",
   "metadata": {
    "tags": []
   },
   "outputs": [],
   "source": [
    "from joblib import dump"
   ]
  },
  {
   "cell_type": "code",
   "execution_count": 12,
   "id": "fb367baa-f178-4671-8115-e162417a958e",
   "metadata": {
    "tags": []
   },
   "outputs": [
    {
     "data": {
      "text/plain": [
       "['windowmodels_1.joblib']"
      ]
     },
     "execution_count": 12,
     "metadata": {},
     "output_type": "execute_result"
    }
   ],
   "source": [
    "dump(model, 'windowmodels_1.joblib')"
   ]
  },
  {
   "cell_type": "code",
   "execution_count": 13,
   "id": "f39b573d-6541-4956-9a4a-7e15b08e848a",
   "metadata": {},
   "outputs": [],
   "source": [
    "from joblib import load\n",
    "modellin = load('windowmodels_1.joblib')"
   ]
  },
  {
   "cell_type": "code",
   "execution_count": 14,
   "id": "5defd320",
   "metadata": {},
   "outputs": [
    {
     "data": {
      "text/plain": [
       "101803"
      ]
     },
     "execution_count": 14,
     "metadata": {},
     "output_type": "execute_result"
    }
   ],
   "source": [
    "int(modellin.predict(data_pred).values[0])"
   ]
  },
  {
   "cell_type": "code",
   "execution_count": null,
   "id": "08ab6e2b",
   "metadata": {},
   "outputs": [],
   "source": []
  }
 ],
 "metadata": {
  "kernelspec": {
   "display_name": "Python 3 (ipykernel)",
   "language": "python",
   "name": "python3"
  },
  "language_info": {
   "codemirror_mode": {
    "name": "ipython",
    "version": 3
   },
   "file_extension": ".py",
   "mimetype": "text/x-python",
   "name": "python",
   "nbconvert_exporter": "python",
   "pygments_lexer": "ipython3",
   "version": "3.11.4"
  }
 },
 "nbformat": 4,
 "nbformat_minor": 5
}
